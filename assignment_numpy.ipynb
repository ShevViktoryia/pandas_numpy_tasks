{
 "cells": [
  {
   "cell_type": "markdown",
   "id": "d3df79dd",
   "metadata": {},
   "source": [
    "## Упражнения по библиотеке Numpy"
   ]
  },
  {
   "cell_type": "code",
   "execution_count": 7,
   "id": "76b9c43b",
   "metadata": {},
   "outputs": [],
   "source": [
    "import numpy as np"
   ]
  },
  {
   "cell_type": "markdown",
   "id": "03727b7c",
   "metadata": {},
   "source": [
    "**1.** Дан случайный массив, поменять знак у элементов, значения которых между 3 и 8"
   ]
  },
  {
   "cell_type": "code",
   "execution_count": null,
   "id": "b89a7523",
   "metadata": {},
   "outputs": [],
   "source": [
    "import numpy as np\n",
    "arr = np.random.randint(-10, 11, size=15)\n",
    "filter = (arr >= 3) & (arr <= 8)\n",
    "arr[filter] *= -1"
   ]
  },
  {
   "cell_type": "markdown",
   "id": "5fa4abda",
   "metadata": {},
   "source": [
    "**2.** Заменить максимальный элемент случайного массива на 0"
   ]
  },
  {
   "cell_type": "code",
   "execution_count": 9,
   "id": "f2788a6e",
   "metadata": {},
   "outputs": [],
   "source": [
    "import numpy as np\n",
    "arr = np.random.randint(1, 11, size=15)\n",
    "arr[np.max(arr)] = 0"
   ]
  },
  {
   "cell_type": "markdown",
   "id": "3cac656b",
   "metadata": {},
   "source": [
    "**3.** Построить прямое произведение массивов (все комбинации с каждым элементом). На вход подается двумерный массив"
   ]
  },
  {
   "cell_type": "code",
   "execution_count": 10,
   "id": "3396b764",
   "metadata": {},
   "outputs": [
    {
     "name": "stdout",
     "output_type": "stream",
     "text": [
      "[[1 3 5]\n",
      " [1 3 6]\n",
      " [1 4 5]\n",
      " [1 4 6]\n",
      " [2 3 5]\n",
      " [2 3 6]\n",
      " [2 4 5]\n",
      " [2 4 6]]\n"
     ]
    }
   ],
   "source": [
    "# your code\n",
    "import numpy as np\n",
    "from itertools import product\n",
    "def my_func(arr: np.ndarray):\n",
    "    lists = arr.tolist()\n",
    "    result = list(product(*lists))\n",
    "    return np.array(result)\n",
    "\n",
    "a = np.array([\n",
    "    [1, 2],\n",
    "    [3, 4],\n",
    "    [5, 6]\n",
    "])\n",
    "print(my_func(a))"
   ]
  },
  {
   "cell_type": "markdown",
   "id": "674c9354",
   "metadata": {},
   "source": [
    "**4.** Даны 2 массива A (8x3) и B (2x2). Найти строки в A, которые содержат элементы из каждой строки в B, независимо от порядка элементов в B"
   ]
  },
  {
   "cell_type": "code",
   "execution_count": 11,
   "id": "cb664782",
   "metadata": {},
   "outputs": [
    {
     "name": "stdout",
     "output_type": "stream",
     "text": [
      "[[2 3 5]]\n"
     ]
    }
   ],
   "source": [
    "# your code\n",
    "import numpy as np\n",
    "\n",
    "A = np.array([\n",
    "    [1, 2, 3],\n",
    "    [4, 5, 6],\n",
    "    [7, 8, 9],\n",
    "    [2, 3, 5],\n",
    "    [5, 7, 9],\n",
    "    [1, 4, 7],\n",
    "    [2, 5, 8],\n",
    "    [3, 6, 9]\n",
    "])\n",
    "\n",
    "B = np.array([\n",
    "    [2, 3],\n",
    "    [3, 5]\n",
    "])\n",
    "\n",
    "mask = np.ones(len(A), dtype=bool)\n",
    "for b_row in B:\n",
    "    contains = np.array([np.isin(b_row, row).all() for row in A])\n",
    "    mask &= contains\n",
    "\n",
    "result = A[mask]\n",
    "print(result)"
   ]
  },
  {
   "cell_type": "markdown",
   "id": "fa46533b",
   "metadata": {},
   "source": [
    "**5.** Дана 10x3 матрица, найти строки из неравных значений (например строка [2,2,3] остается, строка [3,3,3] удаляется)"
   ]
  },
  {
   "cell_type": "code",
   "execution_count": 12,
   "id": "fa545b23",
   "metadata": {},
   "outputs": [
    {
     "name": "stdout",
     "output_type": "stream",
     "text": [
      "[[1 2 3]\n",
      " [4 5 6]\n",
      " [1 1 2]\n",
      " [0 1 0]\n",
      " [9 8 7]\n",
      " [3 4 3]]\n"
     ]
    }
   ],
   "source": [
    "# your code\n",
    "import numpy as np\n",
    "\n",
    "A = np.array([\n",
    "    [1, 2, 3],\n",
    "    [3, 3, 3],\n",
    "    [4, 5, 6],\n",
    "    [7, 7, 7],\n",
    "    [1, 1, 2],\n",
    "    [2, 2, 2],\n",
    "    [0, 1, 0],\n",
    "    [5, 5, 5],\n",
    "    [9, 8, 7],\n",
    "    [3, 4, 3]\n",
    "])\n",
    "\n",
    "filteredA = A[~np.all(A == A[:,0][:,None], axis=1)]\n",
    "print(filteredA)"
   ]
  },
  {
   "cell_type": "markdown",
   "id": "28f0d116",
   "metadata": {},
   "source": [
    "**6.** Дан двумерный массив. Удалить те строки, которые повторяются"
   ]
  },
  {
   "cell_type": "code",
   "execution_count": 13,
   "id": "83d2c0b7",
   "metadata": {},
   "outputs": [
    {
     "name": "stdout",
     "output_type": "stream",
     "text": [
      "[[1 2 3]\n",
      " [3 3 3]\n",
      " [4 5 6]\n",
      " [7 8 9]]\n"
     ]
    }
   ],
   "source": [
    "# your code\n",
    "import numpy as np\n",
    "\n",
    "A = np.array([\n",
    "    [1, 2, 3],\n",
    "    [3, 3, 3],\n",
    "    [1, 2, 3],\n",
    "    [4, 5, 6],\n",
    "    [3, 3, 3],\n",
    "    [7, 8, 9]\n",
    "])\n",
    "\n",
    "unique = np.unique(A, axis=0)\n",
    "print(unique)"
   ]
  },
  {
   "cell_type": "markdown",
   "id": "6daa9e37",
   "metadata": {},
   "source": [
    "______\n",
    "______"
   ]
  },
  {
   "cell_type": "markdown",
   "id": "cfbfcaff",
   "metadata": {},
   "source": [
    "Для каждой из следующих задач (1-5) нужно привести 2 реализации – одна без использования numpy (cчитайте, что там, где на входе или выходе должны быть numpy array, будут просто списки), а вторая полностью векторизованная с использованием numpy (без использования питоновских циклов/map/list comprehension).\n",
    "\n",
    "\n",
    "__Замечание 1.__ Можно считать, что все указанные объекты непустые (к примеру, в __задаче 1__ на диагонали матрицы есть ненулевые элементы).\n",
    "\n",
    "__Замечание 2.__ Для большинства задач решение занимает не больше 1-2 строк."
   ]
  },
  {
   "cell_type": "markdown",
   "id": "673cac7f",
   "metadata": {},
   "source": [
    "___"
   ]
  },
  {
   "cell_type": "markdown",
   "id": "ca6f585e",
   "metadata": {},
   "source": [
    "* __Задача 1__: Подсчитать произведение ненулевых элементов на диагонали прямоугольной матрицы.  \n",
    " Например, для X = np.array([[1, 0, 1], [2, 0, 2], [3, 0, 3], [4, 4, 4]]) ответ 3."
   ]
  },
  {
   "cell_type": "code",
   "execution_count": 14,
   "id": "065862fc",
   "metadata": {},
   "outputs": [
    {
     "name": "stdout",
     "output_type": "stream",
     "text": [
      "3\n",
      "3\n"
     ]
    }
   ],
   "source": [
    "# your code\n",
    "def diag_matrix_first(X):\n",
    "    n = min(len(X), len(X[0]))\n",
    "    prod = 1\n",
    "    for i in range(n):\n",
    "        if X[i][i] != 0:\n",
    "            prod *= X[i][i]\n",
    "    return prod\n",
    "\n",
    "import numpy as np\n",
    "\n",
    "def diag_matrix_numpy(X):\n",
    "    diag = np.diag(X)\n",
    "    return np.prod(diag[diag != 0])\n",
    "\n",
    "X = np.array([[1, 0, 1], [2, 0, 2], [3, 0, 3], [4, 4, 4]])\n",
    "print(diag_matrix_first(X))\n",
    "print(diag_matrix_numpy(X))"
   ]
  },
  {
   "cell_type": "markdown",
   "id": "9fc51d41",
   "metadata": {},
   "source": [
    "* __Задача 2__: Даны два вектора x и y. Проверить, задают ли они одно и то же мультимножество.  \n",
    "  Например, для x = np.array([1, 2, 2, 4]), y = np.array([4, 2, 1, 2]) ответ True."
   ]
  },
  {
   "cell_type": "code",
   "execution_count": 15,
   "id": "a809e02f",
   "metadata": {},
   "outputs": [
    {
     "name": "stdout",
     "output_type": "stream",
     "text": [
      "True\n",
      "True\n"
     ]
    }
   ],
   "source": [
    "# your code\n",
    "def f_without_numpy(x, y):\n",
    "    return sorted(x) == sorted(y)\n",
    "\n",
    "import numpy as np\n",
    "\n",
    "def f_with_numpy(x, y):\n",
    "    return np.array_equal(np.sort(x), np.sort(y))\n",
    "\n",
    "x = np.array([1, 2, 2, 4])\n",
    "y = np.array([4, 2, 1, 2])\n",
    "print(f_without_numpy(x,y))\n",
    "print(f_with_numpy(x,y))"
   ]
  },
  {
   "cell_type": "markdown",
   "id": "b9c185c7",
   "metadata": {},
   "source": [
    "* __Задача 3__: Найти максимальный элемент в векторе x среди элементов, перед которыми стоит ноль. \n",
    " Например, для x = np.array([6, 2, 0, 3, 0, 0, 5, 7, 0]) ответ 5."
   ]
  },
  {
   "cell_type": "code",
   "execution_count": 28,
   "id": "b57df008",
   "metadata": {},
   "outputs": [
    {
     "name": "stdout",
     "output_type": "stream",
     "text": [
      "5\n",
      "5\n"
     ]
    }
   ],
   "source": [
    "# your code\n",
    "\n",
    "def my_func(x):\n",
    "    arr=[]\n",
    "    for i in range(1, len(x)):\n",
    "        if x[i-1] == 0:\n",
    "            arr.append(x[i])\n",
    "    return max(arr)\n",
    "\n",
    "import numpy as np\n",
    "def my_fuc_numpy(x):\n",
    "    return np.max(x[1:][x[:-1] == 0])\n",
    "\n",
    "x = np.array([6, 2, 0, 3, 0, 0, 5, 7, 0])\n",
    "print(my_func(x))\n",
    "print(my_fuc_numpy(x))"
   ]
  },
  {
   "cell_type": "markdown",
   "id": "480be4ce",
   "metadata": {},
   "source": [
    "* __Задача 4__: Реализовать кодирование длин серий (Run-length encoding). Для некоторого вектора x необходимо вернуть кортеж из двух векторов одинаковой длины. Первый содержит числа, а второй - сколько раз их нужно повторить.  \n",
    " Например, для x = np.array([2, 2, 2, 3, 3, 3, 5]) ответ (np.array([2, 3, 5]), np.array([3, 3, 1]))."
   ]
  },
  {
   "cell_type": "code",
   "execution_count": 32,
   "id": "3c592124",
   "metadata": {},
   "outputs": [
    {
     "name": "stdout",
     "output_type": "stream",
     "text": [
      "([np.int64(2), np.int64(3), np.int64(5)], [3, 3, 1])\n",
      "(array([2, 3, 5]), array([3, 3, 1]))\n"
     ]
    }
   ],
   "source": [
    "# your code\n",
    "def my_func(x):\n",
    "    values, counts = [], []\n",
    "    prev_value = x[0]\n",
    "    count = 1\n",
    "    for i in x[1:]:\n",
    "        if i == prev_value:\n",
    "            count += 1\n",
    "        else:\n",
    "            values.append(prev_value)\n",
    "            counts.append(count)\n",
    "            prev_value, count = i, 1\n",
    "    values.append(prev_value)\n",
    "    counts.append(count)\n",
    "    return values, counts\n",
    "\n",
    "import numpy as np\n",
    "def my_fuc_numpy(x):\n",
    "    index = np.flatnonzero(np.diff(x)) + 1\n",
    "    return x[np.r_[0, index]], np.diff(np.r_[0, index, len(x)])\n",
    "\n",
    "x = np.array([2, 2, 2, 3, 3, 3, 5])\n",
    "print(my_func(list(x)))\n",
    "print(my_fuc_numpy(x))"
   ]
  },
  {
   "cell_type": "markdown",
   "id": "077532ec",
   "metadata": {},
   "source": [
    "* __Задача 5__: Даны две выборки объектов - X и Y. Вычислить матрицу евклидовых расстояний между объектами. Сравните с функцией scipy.spatial.distance.cdist по скорости работы."
   ]
  },
  {
   "cell_type": "code",
   "execution_count": 35,
   "id": "1e807797",
   "metadata": {},
   "outputs": [
    {
     "name": "stdout",
     "output_type": "stream",
     "text": [
      "[[5.656854249492381, 8.48528137423857, 11.313708498984761], [2.8284271247461903, 5.656854249492381, 8.48528137423857]]\n",
      "[[ 5.65685425  8.48528137 11.3137085 ]\n",
      " [ 2.82842712  5.65685425  8.48528137]]\n",
      "NoNumPy: 4.467429876327515\n",
      "NumPy: 0.025986671447753906\n",
      "scipy: 0.022806882858276367\n"
     ]
    }
   ],
   "source": [
    "# your code\n",
    "import math\n",
    "\n",
    "def my_func(X, Y):\n",
    "    x, y = len(X), len(Y)\n",
    "    result = [[0.0] * y for _ in range(x)]\n",
    "    for i in range(x):\n",
    "        for j in range(y):\n",
    "            s = 0\n",
    "            for k in range(len(X[0])):\n",
    "                diff = X[i][k] - Y[j][k]\n",
    "                s += diff * diff\n",
    "            result[i][j] = math.sqrt(s)\n",
    "    return result\n",
    "\n",
    "import numpy as np\n",
    "\n",
    "def my_func_numpy(X, Y):\n",
    "    x = np.sum(X**2, axis=1)[:, None]\n",
    "    y = np.sum(Y**2, axis=1)[None, :]\n",
    "    return np.sqrt(x + y - 2 * X @ Y.T)\n",
    "\n",
    "X = np.array([[1, 2], [3, 4]])\n",
    "Y = np.array([[5, 6], [7, 8], [9, 10]])\n",
    "print(my_func(X.tolist(), Y.tolist()))\n",
    "print(my_func_numpy(X, Y))\n",
    "\n",
    "from scipy.spatial.distance import cdist\n",
    "import time\n",
    "\n",
    "X = np.random.randn(1000, 50)\n",
    "Y = np.random.randn(800, 50)\n",
    "\n",
    "time_1 = time.time()\n",
    "my_func(X.tolist(), Y.tolist())\n",
    "print(\"NoNumPy:\", time.time() - time_1)\n",
    "\n",
    "time_2 = time.time()\n",
    "my_func_numpy(X, Y)\n",
    "print(\"NumPy:\", time.time() - time_2)\n",
    "\n",
    "time_3 = time.time()\n",
    "cdist(X, Y)\n",
    "print(\"scipy:\", time.time() - time_3)"
   ]
  },
  {
   "cell_type": "markdown",
   "id": "973e8064",
   "metadata": {},
   "source": [
    "_______\n",
    "________"
   ]
  },
  {
   "cell_type": "markdown",
   "id": "1104acb7",
   "metadata": {},
   "source": [
    "* #### __Задача 6__: CrunchieMunchies __*__\n",
    "\n",
    "Вы работаете в отделе маркетинга пищевой компании MyCrunch, которая разрабатывает новый вид вкусных, полезных злаков под названием **CrunchieMunchies**.\n",
    "\n",
    "Вы хотите продемонстрировать потребителям, насколько полезны ваши хлопья по сравнению с другими ведущими брендами, поэтому вы собрали данные о питании нескольких разных конкурентов.\n",
    "\n",
    "Ваша задача - использовать вычисления Numpy для анализа этих данных и доказать, что ваши **СrunchieMunchies** - самый здоровый выбор для потребителей.\n"
   ]
  },
  {
   "cell_type": "code",
   "execution_count": 19,
   "id": "10a77f8d",
   "metadata": {},
   "outputs": [],
   "source": [
    "import numpy as np"
   ]
  },
  {
   "cell_type": "markdown",
   "id": "ab87cb03",
   "metadata": {},
   "source": [
    "1. Просмотрите файл cereal.csv. Этот файл содержит количества калорий для различных марок хлопьев. Загрузите данные из файла и сохраните их как calorie_stats."
   ]
  },
  {
   "cell_type": "code",
   "execution_count": 8,
   "id": "9681ebf2",
   "metadata": {},
   "outputs": [
    {
     "data": {
      "text/plain": [
       "array([ 70., 120.,  70.,  50., 110., 110., 110., 130.,  90.,  90., 120.,\n",
       "       110., 120., 110., 110., 110., 100., 110., 110., 110., 100., 110.,\n",
       "       100., 100., 110., 110., 100., 120., 120., 110., 100., 110., 100.,\n",
       "       110., 120., 120., 110., 110., 110., 140., 110., 100., 110., 100.,\n",
       "       150., 150., 160., 100., 120., 140.,  90., 130., 120., 100.,  50.,\n",
       "        50., 100., 100., 120., 100.,  90., 110., 110.,  80.,  90.,  90.,\n",
       "       110., 110.,  90., 110., 140., 100., 110., 110., 100., 100., 110.])"
      ]
     },
     "execution_count": 8,
     "metadata": {},
     "output_type": "execute_result"
    }
   ],
   "source": [
    "calorie_stats = np.loadtxt(\"./data/cereal.csv\", delimiter=\",\")\n",
    "calorie_stats"
   ]
  },
  {
   "cell_type": "markdown",
   "id": "139cfbd8",
   "metadata": {},
   "source": [
    "2. В одной порции CrunchieMunchies содержится 60 калорий. Насколько выше среднее количество калорий у ваших конкурентов?\n",
    "\n",
    "Сохраните ответ в переменной average_calories и распечатайте переменную в терминале"
   ]
  },
  {
   "cell_type": "code",
   "execution_count": null,
   "id": "7036d240",
   "metadata": {},
   "outputs": [
    {
     "name": "stdout",
     "output_type": "stream",
     "text": [
      "46.883116883116884\n"
     ]
    }
   ],
   "source": [
    "# your code\n",
    "average_calories = np.average(calorie_stats) - 60\n",
    "print(average_calories)"
   ]
  },
  {
   "cell_type": "markdown",
   "id": "b2ddb4cd",
   "metadata": {},
   "source": [
    "3. Корректно ли среднее количество калорий отражает распределение набора данных? Давайте отсортируем данные и посмотрим.\n",
    "\n",
    "Отсортируйте данные и сохраните результат в переменной calorie_stats_sorted. Распечатайте отсортированную информацию"
   ]
  },
  {
   "cell_type": "code",
   "execution_count": 7,
   "id": "46eeb4ed",
   "metadata": {},
   "outputs": [
    {
     "name": "stdout",
     "output_type": "stream",
     "text": [
      "[ 50.  50.  50.  70.  70.  80.  90.  90.  90.  90.  90.  90.  90. 100.\n",
      " 100. 100. 100. 100. 100. 100. 100. 100. 100. 100. 100. 100. 100. 100.\n",
      " 100. 100. 110. 110. 110. 110. 110. 110. 110. 110. 110. 110. 110. 110.\n",
      " 110. 110. 110. 110. 110. 110. 110. 110. 110. 110. 110. 110. 110. 110.\n",
      " 110. 110. 110. 120. 120. 120. 120. 120. 120. 120. 120. 120. 120. 130.\n",
      " 130. 140. 140. 140. 150. 150. 160.]\n"
     ]
    }
   ],
   "source": [
    "# your code\n",
    "calorie_stats_sorted = np.sort(calorie_stats)\n",
    "print(calorie_stats_sorted)"
   ]
  },
  {
   "cell_type": "markdown",
   "id": "4dc74116",
   "metadata": {},
   "source": [
    "4. Похоже, что большинство значений выше среднего. Давайте посмотрим, является ли медиана наиболее корректным показателем набора данных.\n",
    "\n",
    "Вычислите медиану набора данных и сохраните свой ответ в median_calories. Выведите медиану, чтобы вы могли видеть, как она сравнивается со средним значением."
   ]
  },
  {
   "cell_type": "code",
   "execution_count": 6,
   "id": "b56627c3",
   "metadata": {},
   "outputs": [
    {
     "name": "stdout",
     "output_type": "stream",
     "text": [
      "110.0\n"
     ]
    }
   ],
   "source": [
    "# your code\n",
    "median_calories = np.median(calorie_stats_sorted)\n",
    "print(median_calories)"
   ]
  },
  {
   "cell_type": "markdown",
   "id": "a63ab72f",
   "metadata": {},
   "source": [
    "5. В то время как медиана показывает, что по крайней мере половина наших значений составляет более 100 калорий, было бы более впечатляюще показать, что значительная часть конкурентов имеет более высокое количество калорий, чем CrunchieMunchies.\n",
    "\n",
    "Рассчитайте различные процентили и распечатайте их, пока не найдете наименьший процентиль, превышающий 60 калорий. Сохраните это значение в переменной nth_percentile."
   ]
  },
  {
   "cell_type": "code",
   "execution_count": 10,
   "id": "fe80ce03",
   "metadata": {},
   "outputs": [
    {
     "name": "stdout",
     "output_type": "stream",
     "text": [
      "0 procentile: 50.0\n",
      "1 procentile: 50.0\n",
      "2 procentile: 50.0\n",
      "3 procentile: 55.599999999999994\n",
      "4 procentile: 70.0\n",
      "min procentile: 4\n"
     ]
    }
   ],
   "source": [
    "# your code\n",
    "for i in range(0, 101):\n",
    "    value = np.percentile(calorie_stats_sorted, i)\n",
    "    print(f\"{i} procentile: {value}\")\n",
    "    if value > 60:\n",
    "        nth_percentile = i\n",
    "        break\n",
    "print(f\"min procentile: {nth_percentile}\")"
   ]
  },
  {
   "cell_type": "markdown",
   "id": "a2a3c5aa",
   "metadata": {},
   "source": [
    "6. Хотя процентиль показывает нам, что у большинства конкурентов количество калорий намного выше, это неудобная концепция для использования в маркетинговых материалах.\n",
    "\n",
    "Вместо этого давайте подсчитаем процент хлопьев, в которых содержится более 60 калорий на порцию. Сохраните свой ответ в переменной more_calories и распечатайте его"
   ]
  },
  {
   "cell_type": "code",
   "execution_count": 12,
   "id": "ade0f6ea",
   "metadata": {},
   "outputs": [
    {
     "name": "stdout",
     "output_type": "stream",
     "text": [
      "96.1038961038961 %\n"
     ]
    }
   ],
   "source": [
    "# your code\n",
    "more_calories = np.mean(np.array(calorie_stats_sorted) > 60) * 100\n",
    "print(more_calories, \"%\")"
   ]
  },
  {
   "cell_type": "markdown",
   "id": "1735d65b",
   "metadata": {},
   "source": [
    "7. Это действительно высокий процент. Это будет очень полезно, когда мы будем продвигать CrunchieMunchies. Но один вопрос заключается в том, насколько велики различия в наборе данных? Можем ли мы сделать обобщение, что в большинстве злаков содержится около 100 калорий или разброс еще больше?\n",
    "\n",
    "Рассчитайте величину отклонения, найдя стандартное отклонение, Сохраните свой ответ в calorie_std и распечатайте на терминале. Как мы можем включить эту ценность в наш анализ?"
   ]
  },
  {
   "cell_type": "code",
   "execution_count": 13,
   "id": "85c8df1f",
   "metadata": {},
   "outputs": [
    {
     "name": "stdout",
     "output_type": "stream",
     "text": [
      "19.35718533390827\n"
     ]
    }
   ],
   "source": [
    "# your code\n",
    "calorie_std = np.std(calorie_stats_sorted)\n",
    "print(calorie_std)"
   ]
  },
  {
   "cell_type": "markdown",
   "id": "037455c5",
   "metadata": {},
   "source": [
    "8. Напишите короткий абзац, в котором кратко изложите свои выводы и то, как, по вашему мнению, эти данные могут быть использованы в интересах Mycrunch при маркетинге CrunchieMunchies."
   ]
  },
  {
   "cell_type": "code",
   "execution_count": 15,
   "id": "c260fee9",
   "metadata": {},
   "outputs": [
    {
     "data": {
      "text/plain": [
       "'На основании анализа можно заметить, что у большей части конкурирующих хлопьев калорийность на порцию превышает 60 калорий,\\nи в среднем они имеют ещё более высокое значение. При этом стандартное отклонение показывает заметный разброс значений, \\nто есть часть конкурентов делает более калорийные продукты. \\nДля Mycrunch это можно использовать как маркетинговое преимущество: подчеркнуть, что продукт содержит меньше калорий, \\nчем большинство альтернатив на рынке, и позиционировать его как более лёгкий и полезный продукт.'"
      ]
     },
     "execution_count": 15,
     "metadata": {},
     "output_type": "execute_result"
    }
   ],
   "source": [
    "# your code\n",
    "\"\"\"На основании анализа можно заметить, что у большей части конкурирующих хлопьев калорийность на порцию превышает 60 калорий,\n",
    "и в среднем они имеют ещё более высокое значение. При этом стандартное отклонение показывает заметный разброс значений, \n",
    "то есть часть конкурентов делает более калорийные продукты. \n",
    "Для Mycrunch это можно использовать как маркетинговое преимущество: подчеркнуть, что продукт содержит меньше калорий, \n",
    "чем большинство альтернатив на рынке, и позиционировать его как более лёгкий и полезный продукт.\"\"\""
   ]
  }
 ],
 "metadata": {
  "kernelspec": {
   "display_name": "Python 3",
   "language": "python",
   "name": "python3"
  },
  "language_info": {
   "codemirror_mode": {
    "name": "ipython",
    "version": 3
   },
   "file_extension": ".py",
   "mimetype": "text/x-python",
   "name": "python",
   "nbconvert_exporter": "python",
   "pygments_lexer": "ipython3",
   "version": "3.13.5"
  }
 },
 "nbformat": 4,
 "nbformat_minor": 5
}
